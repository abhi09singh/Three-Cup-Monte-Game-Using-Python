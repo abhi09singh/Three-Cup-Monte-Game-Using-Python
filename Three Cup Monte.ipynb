{
 "cells": [
  {
   "cell_type": "code",
   "execution_count": 11,
   "id": "d699444f",
   "metadata": {},
   "outputs": [],
   "source": [
    "from random import shuffle"
   ]
  },
  {
   "cell_type": "code",
   "execution_count": 12,
   "id": "5a9201ca",
   "metadata": {},
   "outputs": [],
   "source": [
    "#defining mylist \n",
    "\n",
    "def shuffle_list(mylist):\n",
    "    shuffle(mylist)\n",
    "    return mylist\n",
    "    "
   ]
  },
  {
   "cell_type": "code",
   "execution_count": 13,
   "id": "5090d582",
   "metadata": {},
   "outputs": [],
   "source": [
    "#taking players guess\n",
    "\n",
    "def player_guess():\n",
    "    guess =''    #place holder for index \n",
    "    while guess not in ['0','1','2']:\n",
    "        guess=input(\"enter the no. between 0,1,2 : \")\n",
    "    return int(guess) #conversion from string to int type\n"
   ]
  },
  {
   "cell_type": "code",
   "execution_count": 14,
   "id": "adf32f6f",
   "metadata": {},
   "outputs": [],
   "source": [
    "#matching both guesses\n",
    "\n",
    "def check_guess(mylist,guess):\n",
    "    if mylist[guess]== '0':\n",
    "        print('You won')\n",
    "    else :\n",
    "        print('phir se try kro')\n",
    "        print(mylist)"
   ]
  },
  {
   "cell_type": "code",
   "execution_count": 15,
   "id": "d7c77e88",
   "metadata": {},
   "outputs": [
    {
     "name": "stdout",
     "output_type": "stream",
     "text": [
      "enter the no. between 0,1,2 : 4\n",
      "enter the no. between 0,1,2 : 0\n",
      "phir se try kro\n",
      "['', '', '0']\n"
     ]
    }
   ],
   "source": [
    "#initial list\n",
    "mylist=['','0','']\n",
    "\n",
    "#shuffle it\n",
    "mixed_list=shuffle_list(mylist)\n",
    "\n",
    "#player guess\n",
    "guess = player_guess()\n",
    "\n",
    "#To check the game\n",
    "check_guess(mixed_list,guess)"
   ]
  },
  {
   "cell_type": "code",
   "execution_count": null,
   "id": "f16a12f7",
   "metadata": {},
   "outputs": [],
   "source": []
  },
  {
   "cell_type": "code",
   "execution_count": null,
   "id": "d4b006f7",
   "metadata": {},
   "outputs": [],
   "source": []
  }
 ],
 "metadata": {
  "kernelspec": {
   "display_name": "Python 3",
   "language": "python",
   "name": "python3"
  },
  "language_info": {
   "codemirror_mode": {
    "name": "ipython",
    "version": 3
   },
   "file_extension": ".py",
   "mimetype": "text/x-python",
   "name": "python",
   "nbconvert_exporter": "python",
   "pygments_lexer": "ipython3",
   "version": "3.8.8"
  }
 },
 "nbformat": 4,
 "nbformat_minor": 5
}
